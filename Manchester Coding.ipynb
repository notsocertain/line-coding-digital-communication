{
 "cells": [
  {
   "cell_type": "markdown",
   "id": "186b134d",
   "metadata": {},
   "source": [
    "# THEORY- MANCHESTER CODING"
   ]
  },
  {
   "cell_type": "markdown",
   "id": "0bb27a78",
   "metadata": {},
   "source": [
    "# #Used by IEEE 802.3 specification for Ethernet LAN "
   ]
  },
  {
   "cell_type": "markdown",
   "id": "55f2b1b5",
   "metadata": {},
   "source": [
    "Each bit (0 or 1) is transmitted in fixed time.\n",
    "\n",
    "A 1 is noted when high to low transition occurs.\n",
    "\n",
    "0 is expressed when a low to high transition is made.\n",
    "\n",
    "The transition used to note 1 or 0 accurately occurs at the midpoint of a period."
   ]
  },
  {
   "cell_type": "code",
   "execution_count": 12,
   "id": "f336f983",
   "metadata": {},
   "outputs": [],
   "source": [
    "import numpy as np"
   ]
  },
  {
   "cell_type": "code",
   "execution_count": 13,
   "id": "89704020",
   "metadata": {},
   "outputs": [],
   "source": [
    "from matplotlib import pyplot as plt"
   ]
  },
  {
   "cell_type": "code",
   "execution_count": 14,
   "id": "973c92b2",
   "metadata": {},
   "outputs": [],
   "source": [
    "b= [1,0,1,0]"
   ]
  },
  {
   "cell_type": "code",
   "execution_count": 15,
   "id": "99c32dc7",
   "metadata": {},
   "outputs": [
    {
     "data": {
      "text/plain": [
       "4"
      ]
     },
     "execution_count": 15,
     "metadata": {},
     "output_type": "execute_result"
    }
   ],
   "source": [
    "len(b)"
   ]
  },
  {
   "cell_type": "code",
   "execution_count": 16,
   "id": "593d4f19",
   "metadata": {},
   "outputs": [],
   "source": [
    "t = np.arange(0,len(b),0.01)"
   ]
  },
  {
   "cell_type": "code",
   "execution_count": 17,
   "id": "588c2441",
   "metadata": {},
   "outputs": [
    {
     "data": {
      "text/plain": [
       "(400,)"
      ]
     },
     "execution_count": 17,
     "metadata": {},
     "output_type": "execute_result"
    }
   ],
   "source": [
    "t.shape"
   ]
  },
  {
   "cell_type": "code",
   "execution_count": 22,
   "id": "1441d1d9",
   "metadata": {},
   "outputs": [],
   "source": [
    "j =0"
   ]
  },
  {
   "cell_type": "code",
   "execution_count": 19,
   "id": "2dcbc40a",
   "metadata": {},
   "outputs": [],
   "source": [
    "p=[]"
   ]
  },
  {
   "cell_type": "code",
   "execution_count": null,
   "id": "321f5790",
   "metadata": {},
   "outputs": [],
   "source": []
  },
  {
   "cell_type": "code",
   "execution_count": 28,
   "id": "34353d41",
   "metadata": {},
   "outputs": [
    {
     "data": {
      "image/png": "[encoded data removed]",
      "text/plain": [
       "<Figure size 640x480 with 1 Axes>"
      ]
     },
     "metadata": {},
     "output_type": "display_data"
    }
   ],
   "source": [
    "import numpy as np\n",
    "import matplotlib.pyplot as plt\n",
    "\n",
    "b = [ 0, 1,1, 0]\n",
    "# bit duration = 1.0  # Bit duration in seconds\n",
    "# pulse duration = 0.5 * bit_duration  # Pulse duration is half of bit duration\n",
    "t = np.arange(0, len(b), 0.01)\n",
    "\n",
    "j = 0\n",
    "p = []\n",
    "\n",
    "for i in range(len(t)):\n",
    "    if t[i] < (j + 0.5):  # In the pulse duration\n",
    "            p.append(b[j])\n",
    "    else:\n",
    "        p.append(not b[j])  # After the pulse, return to zero\n",
    "        if t[i] >= (j + 1):  # Move to the next bit\n",
    "            j += 1\n",
    "\n",
    "plt.plot(t, p)\n",
    "plt.xlabel('Time')\n",
    "plt.ylabel('Voltage')\n",
    "plt.title('Manchester Encoding')\n",
    "plt.ylim(-0.1, 1.1)  # Set y-axis limits\n",
    "plt.show()\n"
   ]
  },
  {
   "cell_type": "code",
   "execution_count": null,
   "id": "1253c3a9",
   "metadata": {},
   "outputs": [],
   "source": []
  }
 ],
 "metadata": {
  "kernelspec": {
   "display_name": "Python 3 (ipykernel)",
   "language": "python",
   "name": "python3"
  },
  "language_info": {
   "codemirror_mode": {
    "name": "ipython",
    "version": 3
   },
   "file_extension": ".py",
   "mimetype": "text/x-python",
   "name": "python",
   "nbconvert_exporter": "python",
   "pygments_lexer": "ipython3",
   "version": "3.9.18"
  }
 },
 "nbformat": 4,
 "nbformat_minor": 5
}
