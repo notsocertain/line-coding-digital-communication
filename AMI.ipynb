{
 "cells": [
  {
   "cell_type": "markdown",
   "id": "db4cc443",
   "metadata": {},
   "source": [
    "## THEORY_- ALTERNATE MARK INVERSION(BIPOLAR)"
   ]
  },
  {
   "cell_type": "markdown",
   "id": "a3a59459",
   "metadata": {},
   "source": [
    "AMI (Alternate Mark Inversion) is a synchronous clock encoding technique that uses bipolar pulses to represent logical 1. The next logic 1 is represented by a pulse of the opposite polarity. Hence a sequence of logical 1s are represented by a sequence of pulses of alternating polarity. T\n",
    "\n",
    "Example of AMI encoding\n",
    "A logical 1 value is represented by high or low level - and a zero by no signal. The logical 1 by pulses use alternating polarity."
   ]
  },
  {
   "cell_type": "markdown",
   "id": "3e0a5c2a",
   "metadata": {},
   "source": [
    "# RULES"
   ]
  },
  {
   "cell_type": "markdown",
   "id": "6d7bab50",
   "metadata": {},
   "source": [
    "Zero (0) Representation: A logical '0' is represented by no signal, i.e., the line remains at zero voltage level.\n",
    "\n",
    "One (1) Representation: A logical '1' alternates between positive and negative voltage levels. The polarity of the pulse for a '1' alternates each time a '1' appears in the data stream.\n",
    "\n",
    "    The first '1' in a sequence is represented by a positive voltage pulse.\n",
    "    The next '1' is represented by a negative voltage pulse.\n",
    "    This alternating pattern continues, ensuring that no two consecutive '1's produce pulses of the same polarity."
   ]
  },
  {
   "cell_type": "markdown",
   "id": "5124d885",
   "metadata": {},
   "source": [
    "# ALGORITHM"
   ]
  },
  {
   "cell_type": "markdown",
   "id": "cdb387a3",
   "metadata": {},
   "source": [
    "Algorithm: AMI Encoding and Plotting\n",
    "Input: A binary data string.\n",
    "\n",
    "Output: A plotted visualization of the AMI encoded waveform.\n",
    "\n",
    "Step 1: Initialize Variables\n",
    "polarity: Set to 1. This variable will alternate between 1 and -1 to represent positive and negative pulses respectively for logical '1's.\n",
    "encoded_signal: An empty list that will be filled with the encoded signal levels.\n",
    "time: An empty list that will track the time intervals for each bit's representation.\n",
    "\n",
    "Step 2: Encode Binary Data\n",
    "For each bit in the binary data string:\n",
    "If the bit is '1':\n",
    "Append the current polarity to encoded_signal twice (to maintain the level for the entire duration of the bit).\n",
    "Multiply polarity by -1 to toggle it for the next '1'.\n",
    "If the bit is '0':\n",
    "Append two zeros to encoded_signal (to represent no signal for the duration of the bit).\n",
    "Extend the time list by appending the current bit's start and end time (i.e., i and i + 1).\n",
    "\n",
    "Step 3: Extend Time for Final Transition\n",
    "Add one final point to the time list to complete the last step in the plot, ensuring that the plot extends to cover the duration of the last bit processed.\n",
    "\n",
    "Step 4: Plot the AMI Waveform\n",
    "Set up the plot:\n",
    "Create a figure with a specified size.\n",
    "Use a step plot function to plot encoded_signal against time with transitions aligned to the right of each interval (where='post').\n",
    "Configure plot aesthetics:\n",
    "Set the plot title, x-axis, and y-axis labels.\n",
    "Define the y-axis limits to clearly distinguish between positive, negative, and zero levels.\n",
    "Enable grid lines for better readability.\n",
    "Set x-axis ticks to correspond to each bit index, enhancing clarity.\n",
    "\n",
    "Step 5: Display the Plot\n",
    "Render the plot to visually represent the AMI encoded data."
   ]
  },
  {
   "cell_type": "markdown",
   "id": "24ef5838",
   "metadata": {},
   "source": [
    "# CODE"
   ]
  },
  {
   "cell_type": "code",
   "execution_count": 10,
   "id": "5fb8aee6",
   "metadata": {},
   "outputs": [],
   "source": [
    "def ami_encode(data):\n",
    "    # Starting with a positive pulse for the first '1'\n",
    "    polarity = 1\n",
    "    encoded_signal = []\n",
    "    time = []\n",
    "\n",
    "    # Encoding each bit\n",
    "    for i, bit in enumerate(data):\n",
    "        if bit == '1':\n",
    "            encoded_signal.extend([polarity, polarity])\n",
    "            # Flip polarity after every '1'\n",
    "            polarity *= -1\n",
    "        else:\n",
    "            encoded_signal.append(0)\n",
    "            encoded_signal.append(0)  # For each '0', add two zeros to maintain the length\n",
    "        # Extend the time for plotting\n",
    "        time.extend([i, i + 1])\n",
    "\n",
    "    return time, encoded_signal\n"
   ]
  },
  {
   "cell_type": "code",
   "execution_count": 11,
   "id": "436eca55",
   "metadata": {},
   "outputs": [
    {
     "data": {
      "image/png": "[encoded data removed]",
      "text/plain": [
       "<Figure size 1200x500 with 1 Axes>"
      ]
     },
     "metadata": {},
     "output_type": "display_data"
    }
   ],
   "source": [
    "\n",
    "def plot_ami(data):\n",
    "    time, encoded_signal = ami_encode(data)\n",
    "    plt.figure(figsize=(12, 5))\n",
    "    plt.step(time, encoded_signal, where='post')  # 'encoded_signal' already correctly ends\n",
    "    plt.title('AMI Encoding')\n",
    "    plt.xlabel('Bit Index')\n",
    "    plt.ylabel('Voltage Level')\n",
    "    plt.ylim(-2, 2)  # Set y-axis limits to clearly show the pulses\n",
    "    plt.grid(True)\n",
    "    plt.xticks(range(len(data) + 1))  # Set x-axis ticks to match the bit indices\n",
    "    plt.show()\n",
    "\n",
    "# Example binary data\n",
    "binary_data = \"100111000110\"\n",
    "plot_ami(binary_data)"
   ]
  },
  {
   "cell_type": "code",
   "execution_count": null,
   "id": "8525ffe2",
   "metadata": {},
   "outputs": [],
   "source": []
  }
 ],
 "metadata": {
  "kernelspec": {
   "display_name": "Python 3 (ipykernel)",
   "language": "python",
   "name": "python3"
  },
  "language_info": {
   "codemirror_mode": {
    "name": "ipython",
    "version": 3
   },
   "file_extension": ".py",
   "mimetype": "text/x-python",
   "name": "python",
   "nbconvert_exporter": "python",
   "pygments_lexer": "ipython3",
   "version": "3.9.18"
  }
 },
 "nbformat": 4,
 "nbformat_minor": 5
}
