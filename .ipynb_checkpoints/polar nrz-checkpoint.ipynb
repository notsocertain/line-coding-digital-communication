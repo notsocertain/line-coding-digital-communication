{
 "cells": [
  {
   "cell_type": "code",
   "execution_count": 9,
   "id": "f8f97ec2",
   "metadata": {},
   "outputs": [],
   "source": [
    "from matplotlib import pyplot as plt"
   ]
  },
  {
   "cell_type": "code",
   "execution_count": 2,
   "id": "6f51bda6",
   "metadata": {},
   "outputs": [],
   "source": [
    "import numpy as np"
   ]
  },
  {
   "cell_type": "code",
   "execution_count": 17,
   "id": "56efc444",
   "metadata": {},
   "outputs": [],
   "source": [
    "b= [1,0,1,0]"
   ]
  },
  {
   "cell_type": "code",
   "execution_count": 18,
   "id": "8f5d85a7",
   "metadata": {},
   "outputs": [],
   "source": [
    "t = np.arange(0,len(b),0.01)"
   ]
  },
  {
   "cell_type": "code",
   "execution_count": 19,
   "id": "cd6dd5d0",
   "metadata": {},
   "outputs": [
    {
     "data": {
      "text/plain": [
       "(400,)"
      ]
     },
     "execution_count": 19,
     "metadata": {},
     "output_type": "execute_result"
    }
   ],
   "source": [
    "t.shape"
   ]
  },
  {
   "cell_type": "code",
   "execution_count": 20,
   "id": "944c989d",
   "metadata": {},
   "outputs": [
    {
     "data": {
      "text/plain": [
       "1.0"
      ]
     },
     "execution_count": 20,
     "metadata": {},
     "output_type": "execute_result"
    }
   ],
   "source": [
    "t[100]"
   ]
  },
  {
   "cell_type": "code",
   "execution_count": 21,
   "id": "5e3efb6e",
   "metadata": {},
   "outputs": [],
   "source": [
    "j =1 "
   ]
  },
  {
   "cell_type": "code",
   "execution_count": 22,
   "id": "bbaf02fc",
   "metadata": {},
   "outputs": [],
   "source": [
    "p =[]"
   ]
  },
  {
   "cell_type": "code",
   "execution_count": 23,
   "id": "b8951ca6",
   "metadata": {},
   "outputs": [
    {
     "data": {
      "text/plain": [
       "[]"
      ]
     },
     "execution_count": 23,
     "metadata": {},
     "output_type": "execute_result"
    }
   ],
   "source": [
    "p"
   ]
  },
  {
   "cell_type": "code",
   "execution_count": 16,
   "id": "b4611acc",
   "metadata": {},
   "outputs": [],
   "source": [
    "plt.show()"
   ]
  },
  {
   "cell_type": "code",
   "execution_count": 26,
   "id": "f314d44b",
   "metadata": {},
   "outputs": [
    {
     "data": {
      "image/png": "[encoded data removed]",
      "text/plain": [
       "<Figure size 640x480 with 1 Axes>"
      ]
     },
     "metadata": {},
     "output_type": "display_data"
    }
   ],
   "source": [
    "import numpy as np\n",
    "from matplotlib import pyplot as plt\n",
    "\n",
    "b = [1, 0, 1, 0]\n",
    "t = np.arange(0, len(b), 0.01)\n",
    "j = 1\n",
    "p = []\n",
    "\n",
    "for i in range(len(t)):\n",
    "    if t[i] < j:\n",
    "        p.append(b[j-1])\n",
    "    else:\n",
    "        p.append(b[j])\n",
    "        j += 1\n",
    "\n",
    "# Map input 0 to -1 for polar NRZ\n",
    "polar_nrz = [1 if x == 1 else -1 for x in p]\n",
    "\n",
    "plt.plot(t, polar_nrz)\n",
    "plt.show()\n"
   ]
  },
  {
   "cell_type": "code",
   "execution_count": null,
   "id": "e0733d3a",
   "metadata": {},
   "outputs": [],
   "source": []
  }
 ],
 "metadata": {
  "kernelspec": {
   "display_name": "Python 3 (ipykernel)",
   "language": "python",
   "name": "python3"
  },
  "language_info": {
   "codemirror_mode": {
    "name": "ipython",
    "version": 3
   },
   "file_extension": ".py",
   "mimetype": "text/x-python",
   "name": "python",
   "nbconvert_exporter": "python",
   "pygments_lexer": "ipython3",
   "version": "3.9.18"
  }
 },
 "nbformat": 4,
 "nbformat_minor": 5
}
