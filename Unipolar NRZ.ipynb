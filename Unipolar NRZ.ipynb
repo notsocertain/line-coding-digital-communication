{
 "cells": [
  {
   "cell_type": "code",
   "execution_count": 32,
   "id": "626580d8",
   "metadata": {},
   "outputs": [],
   "source": [
    "import numpy as np"
   ]
  },
  {
   "cell_type": "code",
   "execution_count": 33,
   "id": "8d79b132",
   "metadata": {},
   "outputs": [],
   "source": [
    "from matplotlib import pyplot as plt"
   ]
  },
  {
   "cell_type": "code",
   "execution_count": 34,
   "id": "7fd55959",
   "metadata": {},
   "outputs": [],
   "source": [
    "b= [1,0,1,0]"
   ]
  },
  {
   "cell_type": "code",
   "execution_count": 35,
   "id": "1f36fe7e",
   "metadata": {},
   "outputs": [
    {
     "data": {
      "text/plain": [
       "4"
      ]
     },
     "execution_count": 35,
     "metadata": {},
     "output_type": "execute_result"
    }
   ],
   "source": [
    "len(b)"
   ]
  },
  {
   "cell_type": "code",
   "execution_count": 36,
   "id": "91d4e784",
   "metadata": {},
   "outputs": [],
   "source": [
    "t = np.arange(0,len(b),0.01)"
   ]
  },
  {
   "cell_type": "code",
   "execution_count": 37,
   "id": "eabae64f",
   "metadata": {},
   "outputs": [],
   "source": [
    "t = np.arange(0,4,.01)"
   ]
  },
  {
   "cell_type": "code",
   "execution_count": 38,
   "id": "bd8bab62",
   "metadata": {},
   "outputs": [
    {
     "data": {
      "text/plain": [
       "(400,)"
      ]
     },
     "execution_count": 38,
     "metadata": {},
     "output_type": "execute_result"
    }
   ],
   "source": [
    "t.shape"
   ]
  },
  {
   "cell_type": "code",
   "execution_count": 39,
   "id": "a657da1d",
   "metadata": {},
   "outputs": [
    {
     "data": {
      "text/plain": [
       "400"
      ]
     },
     "execution_count": 39,
     "metadata": {},
     "output_type": "execute_result"
    }
   ],
   "source": [
    "len(t)"
   ]
  },
  {
   "cell_type": "code",
   "execution_count": 40,
   "id": "af0e3359",
   "metadata": {},
   "outputs": [],
   "source": [
    "j =1"
   ]
  },
  {
   "cell_type": "code",
   "execution_count": 41,
   "id": "e37a82c7",
   "metadata": {},
   "outputs": [],
   "source": [
    "p =[]"
   ]
  },
  {
   "cell_type": "code",
   "execution_count": 42,
   "id": "1e83aff9",
   "metadata": {},
   "outputs": [
    {
     "data": {
      "text/plain": [
       "0"
      ]
     },
     "execution_count": 42,
     "metadata": {},
     "output_type": "execute_result"
    }
   ],
   "source": [
    "len(p)"
   ]
  },
  {
   "cell_type": "code",
   "execution_count": 45,
   "id": "a6848a66",
   "metadata": {},
   "outputs": [],
   "source": [
    "j =1"
   ]
  },
  {
   "cell_type": "code",
   "execution_count": 46,
   "id": "d241d84d",
   "metadata": {},
   "outputs": [],
   "source": [
    "p =[]"
   ]
  },
  {
   "cell_type": "code",
   "execution_count": 53,
   "id": "f644e332",
   "metadata": {},
   "outputs": [
    {
     "data": {
      "image/png": "[encoded data removed]",
      "text/plain": [
       "<Figure size 640x480 with 1 Axes>"
      ]
     },
     "metadata": {},
     "output_type": "display_data"
    }
   ],
   "source": [
    "import numpy as np\n",
    "from matplotlib import pyplot as plt\n",
    "\n",
    "b = [1, 0, 1, 0]\n",
    "t = np.arange(0, len(b), 0.01)\n",
    "j = 1\n",
    "p = []\n",
    "\n",
    "for i in range(len(t)):\n",
    "    if t[i] < j:\n",
    "        p.append(b[j-1])\n",
    "    else:\n",
    "        p.append(b[j])\n",
    "        j += 1\n",
    "\n",
    "plt.plot(t, p)\n",
    "plt.show()\n"
   ]
  },
  {
   "cell_type": "code",
   "execution_count": null,
   "id": "5e859520",
   "metadata": {},
   "outputs": [],
   "source": []
  }
 ],
 "metadata": {
  "kernelspec": {
   "display_name": "Python 3 (ipykernel)",
   "language": "python",
   "name": "python3"
  },
  "language_info": {
   "codemirror_mode": {
    "name": "ipython",
    "version": 3
   },
   "file_extension": ".py",
   "mimetype": "text/x-python",
   "name": "python",
   "nbconvert_exporter": "python",
   "pygments_lexer": "ipython3",
   "version": "3.9.18"
  }
 },
 "nbformat": 4,
 "nbformat_minor": 5
}
